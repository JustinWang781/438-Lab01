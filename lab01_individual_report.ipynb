{
  "cells": [
    {
      "cell_type": "markdown",
      "metadata": {
        "id": "A9O6CSBYzznK"
      },
      "source": [
        "<h1><center>\n",
        "    ECE 438: Digital Signal Processing with Applications<br/>\n",
        "Lab 1: Discrete and Continuous-Time Signals<br/>\n",
        "    <small>Date: </small> <br/>\n",
        "    <small>Section: </small>\n",
        "</center></h1>"
      ]
    },
    {
      "cell_type": "markdown",
      "metadata": {
        "id": "50wiOCwezznN"
      },
      "source": [
        "|Name|Sign|Time spent outside of lab|\n",
        "|:---:|:---:|:---:|\n",
        "|Justin Wang [100%]||2 hours|"
      ]
    },
    {
      "cell_type": "markdown",
      "metadata": {
        "id": "m_hEqAtyzznN"
      },
      "source": [
        "||Below Expectations|Lacks in some respect|Meets all expectations|\n",
        "|:---:|:---:|:---:|:---:|\n",
        "|Completeness of the report||||\n",
        "|Organization of the report One-sided, with cover sheet, answers are in the same order asquestions in the lab, copies of the questions||||\n",
        "|Quality of figures Correctly labeled with title, x-axis, y-axis, and name(s)||||\n",
        "|Understanding of continuous and discrete-time signals (15 pts) figures, questions||||\n",
        "|Ability to compute integral manually and in (30 pts) Manual computation, figures, Python codes, questions||||\n",
        "|Ability to read audio signal (5 pts)||||\n",
        "|Ability to define and display functions (1D and 2D) (35 pts) figures, Python codes, questions||||\n",
        "|Understanding of sampling (15 pts)figures, questions||||"
      ]
    },
    {
      "cell_type": "markdown",
      "metadata": {
        "id": "DEtJDMUozznN"
      },
      "source": [
        "<h2 style=\"color:salmon;\"><left>1. Introduction</left></h2>"
      ]
    },
    {
      "cell_type": "markdown",
      "metadata": {
        "id": "VHKImaoQzznO"
      },
      "source": [
        "The purpose of this lab is to illustrate the properties of continuous and discrete-time signals\n",
        "using digital computers and the [Python 3](https://www.python.org/) environment. A continuous-time signal\n",
        "takes on a value at every point in time, whereas a discrete-time signal is only defined at\n",
        "integer values of the “time” variable. However, while discrete-time signals can be easily\n",
        "stored and processed on a computer, it is impossible to store the values of a continuous-time\n",
        "signal for all points along a segment of the real line. In later labs, we will see that digital\n",
        "computers are actually restricted to the storage of quantized discrete-time signals. Such\n",
        "signals are appropriately known as digital signals.\n",
        "\n",
        "How then do we process continuous-time signals? In this lab, we will show that continuous-time signals may be processed by first approximating them by discrete-time signals using\n",
        "a process known as sampling. We will see that proper selection of the spacing between\n",
        "samples is crucial for an efficient and accurate approximation of a continuous-time signal.\n",
        "Excessively close spacing will lead to too much data, whereas excessively distant spacing will\n",
        "lead to a poor approximation of the continuous-time signal. Sampling will be an important\n",
        "topic in future labs, but for now we will use sampling to approximately compute some simple\n",
        "attributes of both real and synthetic signals."
      ]
    },
    {
      "cell_type": "markdown",
      "metadata": {
        "id": "g3dHp6przznO"
      },
      "source": [
        "<h2 style=\"color:salmon;\"><left>2. Laboratory Ethics</left></h2>"
      ]
    },
    {
      "cell_type": "markdown",
      "metadata": {
        "id": "QL0KBYVfzznP"
      },
      "source": [
        "Students are expected to behave ethically both in and out of the lab. Unethical behavior includes, but is not limited to, the following:\n",
        "\n",
        "* Possession of another person's laboratory solutions from the current or previous years.\n",
        "* Reference to, or use of another person's laboratory solutions from the current or previous years.\n",
        "* Submission of work that is not done by your laboratory group.\n",
        "* Allowing another person to copy your laboratory solutions or work.\n",
        "* Cheating on quizzes.\n",
        "\n",
        "The ECE 438 laboratory experience is meant to strengthen and deepen the student's understanding of basic concepts taught in the ECE 438 lectures and to help the student develop practical skills in applying the concepts taught in the ECE 438 course. The rules of laboratory ethics are designed to facilitate these goals. We emphasize that laboratory teaching assistants are available throughout the week to help the student both understand the basic concepts and answer the questions being asked in the laboratory exercises. By performing the laboratories independently, students will likely learn more and improve their performance in the course as a whole.\n",
        "\n",
        "Please note that it is the responsibility of the student to make sure that the content of their graded laboratories is not distributed to other students. If there is any question as to whether a given action might be considered unethical, please see the professor or the TA before you engage in such actions."
      ]
    },
    {
      "cell_type": "markdown",
      "metadata": {
        "id": "dWkrf_ydzznP"
      },
      "source": [
        "<h2 style=\"color:salmon;\"><left>3. Introduction to Jupyter Notebook</left></h2>"
      ]
    },
    {
      "cell_type": "markdown",
      "metadata": {
        "id": "v1lpozlrzznQ"
      },
      "source": [
        "Jupyter notebook is a tool that integrates the text, the code and the plots generated into a single document. In this semester, we will be using it to access lab instructions, input our own Python code and generate plots. A Jupyter notebook consists of cells, and there are two kinds of cells that are important to us: **Code** and **Markdown**.\n",
        "\n",
        "**Code** cells contain the Python code we write. You can see that there is a label `In [ ]:` to the left of a **Code** cell.\n",
        "\n",
        "**Markdown** cells contain the text that is formatted using [Markdown](https://www.markdownguide.org/getting-started/). You are also able to insert math equations in LaTex style if you know how to."
      ]
    },
    {
      "cell_type": "markdown",
      "metadata": {
        "id": "FDKFUfajzznQ"
      },
      "source": [
        "### Code"
      ]
    },
    {
      "cell_type": "markdown",
      "metadata": {
        "id": "e6rT4GUGzznR"
      },
      "source": [
        "To run a code cell, you may either click the `Run` button in the toolbar at the top, or use `Shift + Enter`. Try running the cell below that contains the Python code."
      ]
    },
    {
      "cell_type": "code",
      "execution_count": null,
      "metadata": {
        "id": "IyCjSUEIzznR",
        "outputId": "c248d454-9a20-423e-812e-4132df432e6b"
      },
      "outputs": [
        {
          "name": "stdout",
          "output_type": "stream",
          "text": [
            "Hello world\n"
          ]
        }
      ],
      "source": [
        "print(\"Hello world\")"
      ]
    },
    {
      "cell_type": "markdown",
      "metadata": {
        "id": "x8cgGoKyzznS"
      },
      "source": [
        "You will notice that `In [ ]:` has now changed to `In [1]:`. This means that this **Code** cell was the first to be run. Try running the cell again, you will notice that the label has now changed to `In [2]:`.\n",
        "\n",
        "Now, if you ever see the label becomes `In [*]:`, it simply means that the cell is still running. Once the cell finishes running, the asterisk in its label will be replaced by a number. If it takes too long to finish, you may interrupt the kernel by clicking the stop button to the right of the `Run` button. Try running the following cell."
      ]
    },
    {
      "cell_type": "code",
      "execution_count": null,
      "metadata": {
        "id": "PwaP7plizznS"
      },
      "outputs": [],
      "source": [
        "import time\n",
        "time.sleep(3)"
      ]
    },
    {
      "cell_type": "markdown",
      "metadata": {
        "id": "QTCpfOkAzznS"
      },
      "source": [
        "### Markdown"
      ]
    },
    {
      "cell_type": "markdown",
      "metadata": {
        "id": "kn1Rr_kbzznS"
      },
      "source": [
        "When you create a new cell, its default type is **Code**, but you can always change the type to **Markdown** by using the toolbar.\n",
        "\n",
        "In ECE 438 Labs, a **Markdown** cell is usually used when you would write your answer in words instead of code. Try double-clicking the following cell to enter the edit mode. \n",
        "\n",
        "Note that if are familiar with LaTex, you can insert formatted math equations in the **Markdown** cell. $ delimeters need to be used.\n",
        "\n",
        "---"
      ]
    },
    {
      "cell_type": "markdown",
      "metadata": {
        "id": "Gu0a8CLKzznT"
      },
      "source": [
        "Hello world.\n",
        "\n",
        "$e^{j\\pi}+1=0$."
      ]
    },
    {
      "cell_type": "markdown",
      "metadata": {
        "id": "wPtbAQc1zznT"
      },
      "source": [
        "<h2 style=\"color:salmon;\"><left>4. Introduction to Python 3</left></h2>"
      ]
    },
    {
      "cell_type": "markdown",
      "metadata": {
        "id": "H5UanT9UzznT"
      },
      "source": [
        "In this semester, most of the lab tasks in the ECE 438 lab will be performed using Python 3 instead of MATLAB.This section will be focusing on introducing the libraries and the basic functions in Python 3 only. The introduction of Simulink should be found in Laboratory 3.\n",
        "\n",
        "To run and perform these labs you will need Jupyter Notebook.This course utilizes the Anaconda environment since it comes with Jupyter and a Python text editor. Anaconda will be used for the laboratory computers but you are welcome to use any other alternative for your own devices, noting that you will still be required to write your experiments in a Jupyter Notebook. Appendices A, B and C cover how to install Anaconda on 3 separate operating systems and will also provide you with a list of Python 3 libraries that you will need to install on your own device if you so choose to work on the experiments on your own device. It is still heavily recommended that you work on these experiments using the laboratory computers and/or connect remotely to them.  "
      ]
    },
    {
      "cell_type": "markdown",
      "metadata": {
        "id": "TwefTsVZzznT"
      },
      "source": [
        "<h3 style=\"color:salmon;\"><left> 4.1 Python libraries tutorial</left></h3>"
      ]
    },
    {
      "cell_type": "markdown",
      "metadata": {
        "id": "c61-KaChzznT"
      },
      "source": [
        "In this lab, two Python libraries will be heavily used, __*NumPy*__ and __*Matplotlib*__.\n",
        "\n",
        "[__*NumPy*__](https://numpy.org) supports multi-dimensional arrays and matrices, and provides numerous mathematical functions to be operated on these arrays and matrices.\n",
        "\n",
        "[__*Matplotlib*__](https://matplotlib.org) is a plotting library, and in this lab, we will be mainly using __*matplotlib.pyplot*__, which provides a MATLAB-like way of plotting. Please refer to [Pyplot Tutorial](https://matplotlib.org/tutorials/introductory/pyplot.html) for more detailed instructions.\n",
        "\n",
        "First of all, let's import these libraries.\n",
        "\n",
        "Execute the following blocks of code by pressing $\\mathtt{shift+enter}$."
      ]
    },
    {
      "cell_type": "code",
      "execution_count": 1,
      "metadata": {
        "id": "NT7gXxuhzznT"
      },
      "outputs": [],
      "source": [
        "import numpy as np\n",
        "import matplotlib.pyplot as plt\n",
        "import IPython.display as ipd"
      ]
    },
    {
      "cell_type": "code",
      "execution_count": 2,
      "metadata": {
        "id": "sObfPMV8zznU"
      },
      "outputs": [],
      "source": [
        "# make sure the plot is displayed in this notebook\n",
        "%matplotlib inline\n",
        "# specify the size of the plot\n",
        "plt.rcParams['figure.figsize'] = (16, 6)\n",
        "\n",
        "# for auto-reloading extenrnal modules\n",
        "%load_ext autoreload\n",
        "%autoreload 2"
      ]
    },
    {
      "cell_type": "markdown",
      "metadata": {
        "id": "dpRyT1oszznU"
      },
      "source": [
        "You might notice that in the first block, the modules were imported using the syntax `import [module_name] as [alias]`. \n",
        "\n",
        "Note that __np__ and __plt__ are the conventional aliases of __NumPy__ and __matplotlib.pyplot__, respectively, and we will be following the conventions throughout this and the remaining labs.\n",
        "\n",
        "You might have noticed that the file ```lab01.py``` has been imported. Throughout the course of these labs, you'll be given similar files that will contain certain functions that you will need to complete the experiment. You should not edit the files, and you will only be asked to import their functions as use them based on a specific syntax that will be given to you. "
      ]
    },
    {
      "cell_type": "markdown",
      "metadata": {
        "id": "DqiSiMkszznU"
      },
      "source": [
        "<h3 style=\"color:red;\"><left> 4.2 Exercise: Python Libraries</left></h3>"
      ]
    },
    {
      "cell_type": "markdown",
      "metadata": {
        "id": "bTIZTOZ8zznU"
      },
      "source": [
        "The code cell below contains a function named ```get_square``` that simply takes an input value ```x```, and returns its square."
      ]
    },
    {
      "cell_type": "code",
      "execution_count": 3,
      "metadata": {
        "id": "gybQSvLFzznU"
      },
      "outputs": [],
      "source": [
        "def get_square(x):\n",
        "    return x * x"
      ]
    },
    {
      "cell_type": "markdown",
      "metadata": {
        "id": "kOfEBCpwzznU"
      },
      "source": [
        "**1. Run the following cell block to understand how the functions should be called.**"
      ]
    },
    {
      "cell_type": "code",
      "execution_count": 4,
      "metadata": {
        "id": "c6kCWPmAzznU",
        "outputId": "329758fa-6d4d-4abe-9873-718d98b5014b",
        "colab": {
          "base_uri": "https://localhost:8080/"
        }
      },
      "outputs": [
        {
          "output_type": "stream",
          "name": "stdout",
          "text": [
            "100\n"
          ]
        }
      ],
      "source": [
        "a = 10\n",
        "a_square = get_square(a)\n",
        "print(a_square)"
      ]
    },
    {
      "cell_type": "markdown",
      "metadata": {
        "id": "9E8AljGmzznU"
      },
      "source": [
        "<h3 style=\"color:salmon;\"><left> 4.3 Basic Operations</left></h3>"
      ]
    },
    {
      "cell_type": "markdown",
      "metadata": {
        "id": "uilUprfjzznV"
      },
      "source": [
        "Like other programming languages, Python 3 provides basic types including integers, floats, strings and booleans.\n",
        "\n",
        "`print` function is usually used to print out the specified string."
      ]
    },
    {
      "cell_type": "code",
      "execution_count": 5,
      "metadata": {
        "id": "ICJf-s9wzznV",
        "outputId": "c094ad9e-5caa-4304-e345-e6ac9915b127",
        "colab": {
          "base_uri": "https://localhost:8080/"
        }
      },
      "outputs": [
        {
          "output_type": "stream",
          "name": "stdout",
          "text": [
            "10\n",
            "13\n",
            "30\n",
            "3.3333333333333335\n",
            "3\n"
          ]
        }
      ],
      "source": [
        "a = 10               # initialize a with the value of 10\n",
        "b = a + 3            # assign a + 3 to b\n",
        "c = a * 3            # multiply a by 3\n",
        "d = a / 3            # divide a by 3\n",
        "e = a // 3           # integer division\n",
        "\n",
        "print(a)\n",
        "print(b)\n",
        "print(c)\n",
        "print(d)\n",
        "print(e)"
      ]
    },
    {
      "cell_type": "code",
      "execution_count": null,
      "metadata": {
        "id": "7wtSMwxBzznV",
        "outputId": "3887e9e1-04fa-4b0e-f607-38b145d5a1e5"
      },
      "outputs": [
        {
          "name": "stdout",
          "output_type": "stream",
          "text": [
            "3\n",
            "9\n",
            "1.7320508075688772\n",
            "True\n",
            "Hello World!\n"
          ]
        }
      ],
      "source": [
        "a = 3\n",
        "b = a ** 2           # a to the power of 2\n",
        "c = a ** 0.5         # a to the power of 0.5, or square root of a\n",
        "d = b == 9           # return True if b is 9, otherwise False\n",
        "e = \"Hello World!\"   # e is a string\n",
        "\n",
        "print(a)\n",
        "print(b)\n",
        "print(c)\n",
        "print(d)\n",
        "print(e)"
      ]
    },
    {
      "cell_type": "markdown",
      "metadata": {
        "id": "TcYSKO2pzznV"
      },
      "source": [
        "A string can also be formatted; see the examples below."
      ]
    },
    {
      "cell_type": "code",
      "execution_count": null,
      "metadata": {
        "id": "02X66on-zznV",
        "outputId": "57c19826-12a7-4b13-a23e-dfb98b10a93c"
      },
      "outputs": [
        {
          "name": "stdout",
          "output_type": "stream",
          "text": [
            "The value of b is 9.\n",
            "The values of b and c are 9 and 1.7320508075688772.\n",
            "The values of d is 1.73205.\n",
            "The values of d is 1.73.\n"
          ]
        }
      ],
      "source": [
        "str1 = \"The value of b is {}.\".format(b)\n",
        "str2 = \"The values of b and c are {} and {}.\".format(b, c)\n",
        "str3 = \"The values of d is {:.5f}.\".format(c)  # keep only 5 numbers after the decimal point\n",
        "str4 = \"The values of d is {:.2f}.\".format(c)  # keep only 2 numbers after the decimal point\n",
        "print(str1)\n",
        "print(str2)\n",
        "print(str3)\n",
        "print(str4)"
      ]
    },
    {
      "cell_type": "markdown",
      "metadata": {
        "id": "faq0zcL0zznV"
      },
      "source": [
        "*For* loop is also very important throughout all the labs. Run the following cell block to understand how *for* loop works in Python 3."
      ]
    },
    {
      "cell_type": "code",
      "execution_count": 6,
      "metadata": {
        "id": "4iPa9AB5zznV",
        "outputId": "b622c726-1626-4ceb-897b-fd991227a3f8",
        "colab": {
          "base_uri": "https://localhost:8080/"
        }
      },
      "outputs": [
        {
          "output_type": "stream",
          "name": "stdout",
          "text": [
            "0\n",
            "1\n",
            "2\n",
            "3\n",
            "4\n",
            "-----------\n",
            "3\n",
            "4\n",
            "5\n",
            "6\n",
            "7\n",
            "-----------\n",
            "3\n",
            "5\n"
          ]
        }
      ],
      "source": [
        "for i in range(5): # i starts from default 0, and ends at 4 (not 5!!!), default increment by 1\n",
        "    print(i)\n",
        "    \n",
        "print(\"-----------\")\n",
        "\n",
        "for i in range(3, 8, 1): # i starts from 3, and ends at 7 (not 8!!!), increment by 1\n",
        "    print(i)\n",
        "    \n",
        "print(\"-----------\")\n",
        "\n",
        "for i in range(3, 7, 2): # i starts from 3, and ends at 5 (not 6 or 7!!!), increment by 2\n",
        "    print(i)"
      ]
    },
    {
      "cell_type": "markdown",
      "metadata": {
        "id": "2cb4ecM6zznW"
      },
      "source": [
        "<h3 style=\"color:salmon;\"><left> 4.4. Matrices and Operations - NumPy</left></h3>"
      ]
    },
    {
      "cell_type": "markdown",
      "metadata": {
        "id": "xaLb76KGzznW"
      },
      "source": [
        "In Python 3, an one-dimension array can be easily defined with the help of NumPy. For example, ```A = np.array([2, 4, 5, 3, 2, 10])``` creates an array with a length of $6$, where the elements are $2$, $4$, $5$, $3$, $2$ and $10$.\n",
        "\n",
        "To access the `i+1`th element, use the notation `A[i]`, where `i` is the index. **Please note that in Python 3, the index starts from 0.** If the index is negative, e.g., $-i$, then `A[-i]` is retrieving the `i`th element from the right.\n",
        "\n"
      ]
    },
    {
      "cell_type": "code",
      "execution_count": null,
      "metadata": {
        "id": "sS2WmIY0zznW",
        "outputId": "972b0073-4d82-43ef-8e1e-c3de37487075"
      },
      "outputs": [
        {
          "name": "stdout",
          "output_type": "stream",
          "text": [
            "The array is [ 2  4  5  3  2 10].\n",
            "The length of the array is 6.\n",
            "The 5th element from the left of of A is 2.\n",
            "The 2th element from the right of A is 2.\n"
          ]
        }
      ],
      "source": [
        "A = np.array([2, 4, 5, 3, 2, 10])\n",
        "N = len(A) # get the length of the array A\n",
        "print(\"The array is {}.\".format(A))\n",
        "print(\"The length of the array is {}.\".format(N))\n",
        "\n",
        "i = 4\n",
        "print(\"The {}th element from the left of of A is {}.\".format(i + 1, A[i]))\n",
        "i = -2\n",
        "print(\"The {}th element from the right of A is {}.\".format(abs(i), A[i]))"
      ]
    },
    {
      "cell_type": "markdown",
      "metadata": {
        "id": "Y1dod17azznW"
      },
      "source": [
        "NumPy array supports slicing, which means retrieving a subarray from the original array. The basic slicing syntax is ```v[i:j:k]```, where ```i``` is the starting index, ```j``` is the stopping index, and ```k``` is the step."
      ]
    },
    {
      "cell_type": "code",
      "execution_count": null,
      "metadata": {
        "id": "JAkPZOIDzznW",
        "outputId": "45fabf07-12bb-429b-d991-653c7531ee39"
      },
      "outputs": [
        {
          "name": "stdout",
          "output_type": "stream",
          "text": [
            "A =  [ 2  4  5  3  2 10]\n",
            "v1 =  [5 3]\n",
            "Length of v1 is 6 == 4 - 2\n"
          ]
        }
      ],
      "source": [
        "A = np.array([2, 4, 5, 3, 2, 10])\n",
        "N = len(A)\n",
        "v1 = A[2:4:1]\n",
        "print(\"A = \", A)\n",
        "print(\"v1 = \", v1)\n",
        "print(\"Length of v1 is {} == 4 - 2\".format(len(A)))"
      ]
    },
    {
      "cell_type": "markdown",
      "metadata": {
        "id": "hmDUNjDNzznW"
      },
      "source": [
        "If the starting index is $0$, you may ignore it."
      ]
    },
    {
      "cell_type": "code",
      "execution_count": null,
      "metadata": {
        "id": "ksmGbyvuzznW",
        "outputId": "ccf496f3-2a3e-4c45-b491-89534c4bfaca"
      },
      "outputs": [
        {
          "name": "stdout",
          "output_type": "stream",
          "text": [
            "A =  [ 2  4  5  3  2 10]\n",
            "v1 =  [2 4 5 3]\n"
          ]
        }
      ],
      "source": [
        "A = np.array([2, 4, 5, 3, 2, 10])\n",
        "N = len(A)\n",
        "v1 = A[:4:1]\n",
        "print(\"A = \", A)\n",
        "print(\"v1 = \", v1)"
      ]
    },
    {
      "cell_type": "markdown",
      "metadata": {
        "id": "11dtxp7xzznX"
      },
      "source": [
        "If the ending index is the length of the array, you may also ignore it."
      ]
    },
    {
      "cell_type": "code",
      "execution_count": null,
      "metadata": {
        "id": "FgAu8ZhezznX",
        "outputId": "8304a450-f57d-4e1e-c444-5c0a8b68fcc8"
      },
      "outputs": [
        {
          "name": "stdout",
          "output_type": "stream",
          "text": [
            "A =  [ 2  4  5  3  2 10]\n",
            "v1 =  [ 5  3  2 10]\n"
          ]
        }
      ],
      "source": [
        "A = np.array([2, 4, 5, 3, 2, 10])\n",
        "N = len(A)\n",
        "v1 = A[2::1]\n",
        "print(\"A = \", A)\n",
        "print(\"v1 = \", v1)"
      ]
    },
    {
      "cell_type": "markdown",
      "metadata": {
        "id": "Br3t-m4rzznX"
      },
      "source": [
        "If the step size is $1$, you may ignore it."
      ]
    },
    {
      "cell_type": "code",
      "execution_count": null,
      "metadata": {
        "id": "Lah4YZ_szznX",
        "outputId": "667e88b6-eadc-48ca-ac87-2e6fb55b718a"
      },
      "outputs": [
        {
          "name": "stdout",
          "output_type": "stream",
          "text": [
            "A =  [ 2  4  5  3  2 10]\n",
            "v1 =  [5 3]\n"
          ]
        }
      ],
      "source": [
        "A = np.array([2, 4, 5, 3, 2, 10])\n",
        "N = len(A)\n",
        "v1 = A[2:4]\n",
        "print(\"A = \", A)\n",
        "print(\"v1 = \", v1)"
      ]
    },
    {
      "cell_type": "markdown",
      "metadata": {
        "id": "i8-R4oAhzznX"
      },
      "source": [
        "Lastly, let's do some basic operations on the NumPy array."
      ]
    },
    {
      "cell_type": "code",
      "execution_count": null,
      "metadata": {
        "id": "zFrcfwfvzznX",
        "outputId": "8e116735-ee2a-4020-e394-b9966cc8b6bc"
      },
      "outputs": [
        {
          "name": "stdout",
          "output_type": "stream",
          "text": [
            "Multiplying every element of B by 2: [ 8  4  6  4 10 18  0 20]\n",
            "Dividing every element of B by 2: [2.  1.  1.5 1.  2.5 4.5 0.  5. ]\n",
            "Negating every element of B: [ -4  -2  -3  -2  -5  -9   0 -10]\n",
            "The element of B equals 2: [False  True False  True False False False False]\n"
          ]
        }
      ],
      "source": [
        "B = np.array([4, 2, 3, 2, 5, 9, 0, 10])\n",
        "C = B * 2\n",
        "D = B / 2\n",
        "E = -B\n",
        "F = B == 2\n",
        "\n",
        "print(\"Multiplying every element of B by 2: {}\".format(C))\n",
        "print(\"Dividing every element of B by 2: {}\".format(D))\n",
        "print(\"Negating every element of B: {}\".format(E))\n",
        "print(\"The element of B equals 2: {}\".format(F))"
      ]
    },
    {
      "cell_type": "markdown",
      "metadata": {
        "id": "lYjwN0wJzznX"
      },
      "source": [
        "<h2 style=\"color:salmon;\"><left>5. Continuous-Time Vs. Discrete-Time</left></h2>"
      ]
    },
    {
      "cell_type": "markdown",
      "metadata": {
        "id": "uM-9erBPzznX"
      },
      "source": [
        "The introduction in [Section 1](#1.-Introduction) mentioned the important issue of representing continuous-time signals on a computer. In the following sections, we will illustrate the process of *sampling*, and demonstrate the importance of the *sampling interval* to the precision of numerical computations."
      ]
    },
    {
      "cell_type": "markdown",
      "metadata": {
        "id": "Vv1hDk35zznY"
      },
      "source": [
        "<h3 style=\"color:salmon;\"><left>5.1. Displaying Continuous-Time and Discrete-Time Signals in Python 3</left></h3>"
      ]
    },
    {
      "cell_type": "markdown",
      "metadata": {
        "id": "kKWAhwWPzznY"
      },
      "source": [
        "It is common to graph a discrete-time signal as dots in a Cartesian coordinate system. This can be done in Python 3 by using the *stem* function from *matplotlib.pyplot*."
      ]
    },
    {
      "cell_type": "markdown",
      "metadata": {
        "id": "xfyzi93kzznY"
      },
      "source": [
        "1. Create an array with a length of $31$, ranging from $0$ to $60$, and assign it to the variable $\\mathtt{n}$. You may find the function either [np.linspace()](https://docs.scipy.org/doc/numpy/reference/generated/numpy.linspace.html) or [np.arange()](https://docs.scipy.org/doc/numpy/reference/generated/numpy.arange.html) useful.\n",
        "2. Apply $\\sin$ function on this array and assign it to the variable $\\mathtt{y}$. You should use the $\\mathtt{\\sin}()$ function in NumPy. Please refer to [np.sin()](https://docs.scipy.org/doc/numpy/reference/generated/numpy.sin.html).\n",
        "3. Stem plot this $\\sin$ wave, and do not forget the title of the plot and the labels of the axes."
      ]
    },
    {
      "cell_type": "code",
      "execution_count": null,
      "metadata": {
        "id": "0IPOu5jszznY",
        "outputId": "ddc80a16-b775-4ef7-a334-1764a9cc10f5"
      },
      "outputs": [
        {
          "data": {
            "image/png": "[encoded data removed]",
            "text/plain": [
              "<Figure size 1152x432 with 1 Axes>"
            ]
          },
          "metadata": {
            "needs_background": "light"
          },
          "output_type": "display_data"
        }
      ],
      "source": [
        "# 1\n",
        "n = np.linspace(0, 60, 31) # create an NumPy array, [0, 2, 4, ..., 58, 60]\n",
        "# or\n",
        "n = np.arange(0, 61, 2) \n",
        "# or\n",
        "n = np.arange(61)[::2] # create an NumPy array, [0, 1, 2, ..., 59, 60], and then take every other element\n",
        "\n",
        "# 2\n",
        "y = np.sin(n / 6)\n",
        "\n",
        "# 3\n",
        "plt.stem(n, y, use_line_collection=True)\n",
        "plt.title(r\"$\\sin(\\frac{n}{6})$\")\n",
        "plt.xlabel(r\"$n$\")\n",
        "plt.show()"
      ]
    },
    {
      "cell_type": "markdown",
      "metadata": {
        "id": "q-5LpWpMzznY"
      },
      "source": [
        "This plot shows the discrete-time signal formed by computing the values of the function $\\sin(t/6)$ at points that are uniformly spaced at intervals of size $\\frac{60-0}{31-1}=2$."
      ]
    },
    {
      "cell_type": "markdown",
      "metadata": {
        "id": "UEZVukU-zznY"
      },
      "source": [
        "A digital computer cannot store all points of a continuous-time signal since this would require an infinite amount of memory. It is, however, possible to plot a signal which *looks like* a continuous-time signal, by computing the value of the signal at closely spaced points in time, and then connecting the plotted points with lines. The `plt.plot` function may be used to generate such plots."
      ]
    },
    {
      "cell_type": "markdown",
      "metadata": {
        "id": "wzU1_9QrzznY"
      },
      "source": [
        "<h3 style=\"color:red;\"><left>Exercise 5.2</left></h3>"
      ]
    },
    {
      "cell_type": "markdown",
      "metadata": {
        "id": "N9z182oIzznY"
      },
      "source": [
        "**_1. Use the following instructions to generate two continuous-time plots of the signal: $\\sin(t/6)$._**"
      ]
    },
    {
      "cell_type": "markdown",
      "metadata": {
        "id": "-Tng5LrbzznY"
      },
      "source": [
        "1. Initialize ```n1```, a NumPy array starting from 0 and ending at 60, with a step size of 2 (i.e., 31 elements).\n",
        "2. Initialize ```z=sin(n1 / 6)```, using the function ```np.sin(x)```.\n",
        "3. Create the plot, using the function ```plt.plot(x, y)```."
      ]
    },
    {
      "cell_type": "code",
      "execution_count": 7,
      "metadata": {
        "id": "wQBya3DazznY",
        "colab": {
          "base_uri": "https://localhost:8080/",
          "height": 358
        },
        "outputId": "8d2b253b-d776-4bfe-94e0-a9f45b4fd60e"
      },
      "outputs": [
        {
          "output_type": "execute_result",
          "data": {
            "text/plain": [
              "[<matplotlib.lines.Line2D at 0x7f01910e2100>]"
            ]
          },
          "metadata": {},
          "execution_count": 7
        },
        {
          "output_type": "display_data",
          "data": {
            "text/plain": [
              "<Figure size 1152x432 with 1 Axes>"
            ],
            "image/png": "[encoded data removed]"
          },
          "metadata": {
            "needs_background": "light"
          }
        }
      ],
      "source": [
        "# insert your code here (TEST VERSION CONTROL)\n",
        "n1 = np.arange(0,61,2)\n",
        "z = np.sin(n1/6)\n",
        "plt.plot(n1,z)"
      ]
    },
    {
      "cell_type": "markdown",
      "metadata": {
        "id": "q7V_hxV0zznZ"
      },
      "source": [
        "1. Initialize ```n2```, a NumPy array starting from 0 and ending at 60, with a step size of 10 (i.e., 7 elements).\n",
        "2. Initialize ```w=sin(n2 / 6)```, using the function ```np.sin(x)```$.\n",
        "3. Create the plot, using the function ```plt.plot(x, y)```."
      ]
    },
    {
      "cell_type": "code",
      "execution_count": 8,
      "metadata": {
        "id": "O1w6z7CEzznZ",
        "colab": {
          "base_uri": "https://localhost:8080/",
          "height": 358
        },
        "outputId": "36b82cd9-202c-4241-9a6a-1d3df32317a9"
      },
      "outputs": [
        {
          "output_type": "execute_result",
          "data": {
            "text/plain": [
              "[<matplotlib.lines.Line2D at 0x7f0190bb9700>]"
            ]
          },
          "metadata": {},
          "execution_count": 8
        },
        {
          "output_type": "display_data",
          "data": {
            "text/plain": [
              "<Figure size 1152x432 with 1 Axes>"
            ],
            "image/png": "[encoded data removed]"
          },
          "metadata": {
            "needs_background": "light"
          }
        }
      ],
      "source": [
        "# insert your code here\n",
        "n2 = np.arange(0,61,10)\n",
        "w = np.sin(n2/6)\n",
        "plt.plot(n2,w)"
      ]
    },
    {
      "cell_type": "markdown",
      "metadata": {
        "id": "jhhrcDzjzznZ"
      },
      "source": [
        "**_2. Comment on the accuracy of each of the continuous time plots._**"
      ]
    },
    {
      "cell_type": "markdown",
      "metadata": {
        "id": "bM8KmCZ5zznZ"
      },
      "source": [
        "The continuous time plot produced using the step size of 2 is more accurate than that produced using a step size of 10. This result is expected, as a smaller step size results in more data points, which allows for less estimation when producing the continuous time plot. "
      ]
    },
    {
      "cell_type": "markdown",
      "metadata": {
        "id": "F2v-l-kVzznZ"
      },
      "source": [
        "<h3 style=\"color:salmon;\"><left>5.3. Vector Index versus Time</left></h3>"
      ]
    },
    {
      "cell_type": "markdown",
      "metadata": {
        "id": "ezOtkCFzzznZ"
      },
      "source": [
        "We saw in [Section 4.1](#4.1.-Displaying-Continuous-Time-and-Discrete-Time-Signals-in-Python-3) that the samples of a continuous-time signal, say $x(t)$, can be stored in a NumPy array. It is common practice to use the same variable for the vector and the signal. So one often denotes the samples of $x(t)$ by $x[n]$, even though this is an abuse of notation and lacks rigor.\n",
        "\n",
        "It is important not to confuse the index of a vector $x[n]$ with the value of the independent variable of a function $x(t)$. For example, Python 3 can be used to represent the function $x(t)=\\sin(t)$ by sampling $t$ at small intervals. The resulting samples may be stored in a NumPy array called `x` in your program. However, it is important to realize that the function $x$ and the NumPy array `x` in the program are not the same things. The following code illustrates this."
      ]
    },
    {
      "cell_type": "code",
      "execution_count": 9,
      "metadata": {
        "id": "oh8k4GpazznZ"
      },
      "outputs": [],
      "source": [
        "t1 = np.linspace(-10, 10, 201)\n",
        "x = np.sin(t1)"
      ]
    },
    {
      "cell_type": "code",
      "execution_count": null,
      "metadata": {
        "id": "F6QiVF0wzznZ",
        "outputId": "78d8bf56-d98f-4cc2-c011-943c27c6e8bb"
      },
      "outputs": [
        {
          "data": {
            "image/png": "[encoded data removed]",
            "text/plain": [
              "<Figure size 1152x432 with 1 Axes>"
            ]
          },
          "metadata": {
            "needs_background": "light"
          },
          "output_type": "display_data"
        }
      ],
      "source": [
        "plt.plot(x)\n",
        "plt.show()"
      ]
    },
    {
      "cell_type": "code",
      "execution_count": 10,
      "metadata": {
        "id": "g0MvY3-czznZ",
        "outputId": "bd7d1347-5eed-4e16-a921-5d0d7c34a39e",
        "colab": {
          "base_uri": "https://localhost:8080/",
          "height": 340
        }
      },
      "outputs": [
        {
          "output_type": "display_data",
          "data": {
            "text/plain": [
              "<Figure size 1152x432 with 1 Axes>"
            ],
            "image/png": "[encoded data removed]"
          },
          "metadata": {
            "needs_background": "light"
          }
        }
      ],
      "source": [
        "plt.plot(t1, x)\n",
        "plt.show()"
      ]
    },
    {
      "cell_type": "code",
      "execution_count": 11,
      "metadata": {
        "id": "0re5tCLJzzna",
        "outputId": "bf97da3e-986b-42d0-cd44-9543bd6cfd8b",
        "colab": {
          "base_uri": "https://localhost:8080/",
          "height": 340
        }
      },
      "outputs": [
        {
          "output_type": "display_data",
          "data": {
            "text/plain": [
              "<Figure size 1152x432 with 1 Axes>"
            ],
            "image/png": "[encoded data removed]"
          },
          "metadata": {
            "needs_background": "light"
          }
        }
      ],
      "source": [
        "t2 = np.linspace(0, 20, 201)\n",
        "plt.plot(t2, x)\n",
        "plt.show()"
      ]
    },
    {
      "cell_type": "markdown",
      "metadata": {
        "id": "cTYtvty0zzna"
      },
      "source": [
        "<h3 style=\"color:red;\"><left>Exercise 5.4</left></h3>"
      ]
    },
    {
      "cell_type": "markdown",
      "metadata": {
        "id": "2NZZheBRzzna"
      },
      "source": [
        "**1. Run the code above and explain the difference between the three signals represented.** \n",
        "\n",
        "**Hint:** Click on the cell and change it from being a ```Markdown``` type to ```Code``` type."
      ]
    },
    {
      "cell_type": "markdown",
      "metadata": {
        "id": "CFoQrb8Izzna"
      },
      "source": [
        "The first signal was produced using the indices of the x array as the x axis (x[n]).  The second and third signals were produced using t1 as the x axis (x(t1)) instead of the indices of the x array.  Each value in the x array corresponds with the value in the t1 array that shares the same index.  The first value in the x array corresponds with the first value in the t1 array.  This relationship is shown in the third signal, where the t1 values dont actually correspond with the t1 values initially used to create the x array."
      ]
    },
    {
      "cell_type": "markdown",
      "metadata": {
        "id": "hc1jjleJzzna"
      },
      "source": [
        "**2. Write Python 3 code that would print the graph of $\\sin(t)$ for the values of $t$ on the interval [3.5, 4.5]. (Pick a suitable increment for $t$.)**"
      ]
    },
    {
      "cell_type": "code",
      "execution_count": 18,
      "metadata": {
        "id": "nB3ekpJdzzna",
        "colab": {
          "base_uri": "https://localhost:8080/",
          "height": 360
        },
        "outputId": "13a1b103-5b37-40ed-f7e7-e770f9f81d20"
      },
      "outputs": [
        {
          "output_type": "execute_result",
          "data": {
            "text/plain": [
              "[<matplotlib.lines.Line2D at 0x7f01907ebb50>]"
            ]
          },
          "metadata": {},
          "execution_count": 18
        },
        {
          "output_type": "display_data",
          "data": {
            "text/plain": [
              "<Figure size 1152x432 with 1 Axes>"
            ],
            "image/png": "[encoded data removed]"
          },
          "metadata": {
            "needs_background": "light"
          }
        }
      ],
      "source": [
        "# insert your code here\n",
        "t = np.arange(3.5, 4.5, 0.01)\n",
        "x = np.sin(t)\n",
        "plt.plot(t,x)"
      ]
    },
    {
      "cell_type": "markdown",
      "metadata": {
        "id": "DweHzbUxzzna"
      },
      "source": [
        "<h3 style=\"color:red;\"><left>Exercise 5.5</left></h3>"
      ]
    },
    {
      "cell_type": "markdown",
      "metadata": {
        "id": "1cwR8_87zzna"
      },
      "source": [
        "**1. Compute these two integrals on a blank sheet of paper. Do the computations manually.**\n",
        "\n",
        "1. $\\begin{align}\\int_0^{2\\pi}\\sin^2(7t)dt\\end{align}$\n",
        "2. $\\begin{align}\\int_0^1e^tdt\\end{align}$"
      ]
    },
    {
      "cell_type": "markdown",
      "metadata": {
        "id": "YLgcXmpzzzna"
      },
      "source": [
        "1)  $\\pi$ <br />\n",
        "2)  $e-1$\n"
      ]
    },
    {
      "cell_type": "markdown",
      "metadata": {
        "id": "an-XZCXQzzna"
      },
      "source": [
        "<h3 style=\"color:salmon;\"><left>5.6. Numerical Computation of Continuous-Time Signals</left></h3>"
      ]
    },
    {
      "cell_type": "markdown",
      "metadata": {
        "id": "A9yYkN_Wzznb"
      },
      "source": [
        "One common calculation on continuous-time signals is integration. Figure 1 illustrates a method used for computing the widely used Riemann integral. The Riemann integral approximates the area under a curve by breaking the region into many rectangles and summing their areas. Each rectangle is chosen to have the same width $\\Delta t$, and the height of each rectangle is the value of the function at the start of the rectangle's interval.\n",
        "\n",
        "<figure>\n",
        "    <img src=\"https://github.com/JustinWang781/438-Lab01/blob/main/imgs/lab01_figure1.png?raw=1\" style=\"width:50%\" alt=\"Figure 1\">\n",
        "    <em><center>Figure 1: Illustration of the Riemann integral</center></em>\n",
        "</figure>"
      ]
    },
    {
      "cell_type": "markdown",
      "metadata": {
        "id": "5bfabobfzznb"
      },
      "source": [
        "<h3 style=\"color:red;\"><left>Exercise 5.7</left></h3>"
      ]
    },
    {
      "cell_type": "markdown",
      "metadata": {
        "id": "Uexg68Nzzznb"
      },
      "source": [
        "**1. To see the effects of using a different number points to represent a continuous-time signal, write a Python function for numerically computing the integral of the function $\\sin^2(7t)$ over the interval $[0,2\\pi]$. The syntax of the function is**\n",
        "```python\n",
        "def integ1(N):\n",
        "    \"\"\"\n",
        "    Parameters\n",
        "    ---\n",
        "    N: the number of rectangles\n",
        "    \n",
        "    Returns\n",
        "    ---\n",
        "    I: the approximate integral\n",
        "    \"\"\"\n",
        "    return I\n",
        "```\n",
        "**where `I` is the result to be returned and `N` is the number of rectangles used to approximate the integral. This function should use the `np.sum` function and it should NOT contain any *for* loops!**\n",
        "\n",
        "**Note:** Since Python is an *interpreted* language, *for* loops are relatively slow. Therefore, we will avoid using loops whenever possible.</font>"
      ]
    },
    {
      "cell_type": "code",
      "execution_count": 114,
      "metadata": {
        "id": "5C0Z4ucrzznb"
      },
      "outputs": [],
      "source": [
        "# insert your code here\n",
        "def integ1(N):\n",
        "  t = np.linspace(0, 2*3.1415, N, endpoint=False)\n",
        "  x = np.sin(7*t) * np.sin(7*t) * 2*3.1415/N\n",
        "  I = np.sum(x)\n",
        "  return I"
      ]
    },
    {
      "cell_type": "markdown",
      "metadata": {
        "id": "awp_zi2Bzznb"
      },
      "source": [
        "**2. Write a script in a different block that evaluates $I(N)$ for $1\\leqslant N\\leqslant 100$, stores the result in a NumPy array and plots the resulting array as a function of $N$. This script may contain _for_ loops.**\n",
        "\n",
        "**Note**: This script should call the function\n",
        "```python\n",
        "def integ1(N)\n",
        "```\n",
        "you just completed."
      ]
    },
    {
      "cell_type": "code",
      "execution_count": 117,
      "metadata": {
        "id": "hrLlIpsyzznb",
        "colab": {
          "base_uri": "https://localhost:8080/",
          "height": 363
        },
        "outputId": "084d1fb5-77f8-4d03-f655-ed307599ebc7"
      },
      "outputs": [
        {
          "output_type": "execute_result",
          "data": {
            "text/plain": [
              "[<matplotlib.lines.Line2D at 0x7f0185f6ea60>]"
            ]
          },
          "metadata": {},
          "execution_count": 117
        },
        {
          "output_type": "display_data",
          "data": {
            "text/plain": [
              "<Figure size 1152x432 with 1 Axes>"
            ],
            "image/png": "[encoded data removed]"
          },
          "metadata": {
            "needs_background": "light"
          }
        }
      ],
      "source": [
        "# insert your code here\n",
        "results = np.empty(100)\n",
        "n = np.linspace(1,101,100)\n",
        "for i in range(0,100):\n",
        "  results[i] = integ1(i+1)\n",
        "plt.plot(n,results)"
      ]
    },
    {
      "cell_type": "markdown",
      "metadata": {
        "id": "BvPH4CVkzznb"
      },
      "source": [
        "**3. Write a second function `J = integ2(N)` which numerically computes the integral of $e^t$ on the interval [0, 1].** The syntax of the function is\n",
        "\n",
        "```python\n",
        "def integ2(N):\n",
        "    \"\"\"\n",
        "    Parameters\n",
        "    ---\n",
        "    N: the number of rectangles\n",
        "    \n",
        "    Returns\n",
        "    ---\n",
        "    J: the approximate integral\n",
        "    \"\"\"\n",
        "    return J\n",
        "```"
      ]
    },
    {
      "cell_type": "code",
      "execution_count": 93,
      "metadata": {
        "id": "dZtJQ2qJzznb"
      },
      "outputs": [],
      "source": [
        "# insert your code here\n",
        "def integ2(N): \n",
        "  t = np.linspace(0, 1, N, endpoint=False)\n",
        "  x = np.exp(t) * 1.0/N\n",
        "  J = np.sum(x)\n",
        "  return J"
      ]
    },
    {
      "cell_type": "markdown",
      "metadata": {
        "id": "ycKZwyvbzznb"
      },
      "source": [
        "**4. Write a script in the next block that evaluates $J(N)$ for $1\\leqslant N\\leqslant 100$, stores the result in a NumPy array and plots the resulting array as a function of $N$. This script may contain _for_ loops.**\n",
        "\n",
        "**Note**: This script should call the function\n",
        "```python\n",
        "def integ2(N)\n",
        "```\n",
        "you just completed."
      ]
    },
    {
      "cell_type": "code",
      "execution_count": 118,
      "metadata": {
        "id": "CKQQ6tlMzznb",
        "colab": {
          "base_uri": "https://localhost:8080/",
          "height": 363
        },
        "outputId": "dae79a58-b60b-45cd-e2ab-3c906315c085"
      },
      "outputs": [
        {
          "output_type": "execute_result",
          "data": {
            "text/plain": [
              "[<matplotlib.lines.Line2D at 0x7f0185ec3d90>]"
            ]
          },
          "metadata": {},
          "execution_count": 118
        },
        {
          "output_type": "display_data",
          "data": {
            "text/plain": [
              "<Figure size 1152x432 with 1 Axes>"
            ],
            "image/png": "[encoded data removed]"
          },
          "metadata": {
            "needs_background": "light"
          }
        }
      ],
      "source": [
        "# insert your code here\n",
        "results = np.empty(100)\n",
        "n = np.arange(1,101,1)\n",
        "for i in n:\n",
        "  results[i-1] = integ2(i)\n",
        "plt.plot(n,results)"
      ]
    },
    {
      "cell_type": "markdown",
      "metadata": {
        "id": "9lV3HHvNzznc"
      },
      "source": [
        "**5. Compare your results to the analytical solutions from Section 4.3. Explain why $I(7)=I(14)=0$.**"
      ]
    },
    {
      "cell_type": "markdown",
      "metadata": {
        "id": "AJ6ujtLMzznc"
      },
      "source": [
        "For riemann sums using 7 and 14 rectanges, each sample will take place at multiples of $2\\pi/7$ and $2\\pi/14$ respectively.  Since our $sin$ function uses ($7*t$), each sample used to calculate each riemann sum will use the value of either $sin^2$ of either $\\pi$ or $2\\pi$ which are equal to $0$."
      ]
    },
    {
      "cell_type": "markdown",
      "metadata": {
        "id": "N8gY6uwqzznc"
      },
      "source": [
        "<h2 style=\"color:salmon;\"><left>6. Processing of Speech Signals</left></h2>"
      ]
    },
    {
      "cell_type": "markdown",
      "metadata": {
        "id": "M50AsYwNzznc"
      },
      "source": [
        "Digital signal processing is widely used in speech processing for applications ranging from speech compression and transmission, to speech recognition and speaker identification. This exercise will introduce the process of reading and manipulating a speech signal."
      ]
    },
    {
      "cell_type": "markdown",
      "metadata": {
        "id": "Gr0q8v3Lzznc"
      },
      "source": [
        "<h3 style=\"color:red;\"><left>Exercise 6.1</left></h3>"
      ]
    },
    {
      "cell_type": "markdown",
      "metadata": {
        "id": "-J20LXKjzznc"
      },
      "source": [
        "**1. Import `soundfile` module, and use `sf` as the alias.**"
      ]
    },
    {
      "cell_type": "code",
      "execution_count": 134,
      "metadata": {
        "id": "fBVJqyK4zznc"
      },
      "outputs": [],
      "source": [
        "# insert your code here\n",
        "import soundfile as sf"
      ]
    },
    {
      "cell_type": "markdown",
      "metadata": {
        "id": "FeXaKKt5zznc"
      },
      "source": [
        "**2. Do the following:**\n",
        "\n",
        "1. Use the function [```speech, fs = sf.read(\"speech.au\")```](https://pysoundfile.readthedocs.io/en/latest/#read-write-functions) to load file _speech.au_ into Python. Note that this function returns two arguments, where the first one is the data, and the second one is the sampling rate.\n",
        "2. Play the signal, using the command ```ipd.Audio(speech, rate=fs)```.\n",
        "3. Plot the signal on the screen as if it were a continuous-time signal (i.e., use the `plt.plot` command)."
      ]
    },
    {
      "cell_type": "code",
      "execution_count": 135,
      "metadata": {
        "id": "sVBA05yszznc",
        "colab": {
          "base_uri": "https://localhost:8080/",
          "height": 360
        },
        "outputId": "b0ffc959-0c2b-4d58-81fa-6710d7a7d2e3"
      },
      "outputs": [
        {
          "output_type": "execute_result",
          "data": {
            "text/plain": [
              "[<matplotlib.lines.Line2D at 0x7f018469d970>]"
            ]
          },
          "metadata": {},
          "execution_count": 135
        },
        {
          "output_type": "display_data",
          "data": {
            "text/plain": [
              "<Figure size 1152x432 with 1 Axes>"
            ],
            "image/png": "[encoded data removed]"
          },
          "metadata": {
            "needs_background": "light"
          }
        }
      ],
      "source": [
        "# insert your code here\n",
        "speech, fs = sf.read(\"speech.au\")\n",
        "ipd.Audio(speech, rate=fs)\n",
        "plt.plot(speech)\n"
      ]
    },
    {
      "cell_type": "markdown",
      "metadata": {
        "id": "yui7JkJ9zznc"
      },
      "source": [
        "<h2 style=\"color:salmon;\"><left>7. Special Functions</left></h2>"
      ]
    },
    {
      "cell_type": "markdown",
      "metadata": {
        "id": "bBi44O-Dzznc"
      },
      "source": [
        "<h3 style=\"color:red;\"><left>Exercise 7.1</left></h3>"
      ]
    },
    {
      "cell_type": "markdown",
      "metadata": {
        "id": "dImjxjHwzznc"
      },
      "source": [
        "**Plot the following two continuous-time functions over the specified intervals.**"
      ]
    },
    {
      "cell_type": "markdown",
      "metadata": {
        "id": "XQShUGTzzznd"
      },
      "source": [
        "1\\. $\\begin{align}\\begin{cases}\\frac{\\sin(\\pi t)}{\\pi t}&t\\neq0\\\\1&t=0\\end{cases}\\quad\\text{for }t\\in[-10\\pi,10\\pi]\\end{align}$"
      ]
    },
    {
      "cell_type": "markdown",
      "metadata": {
        "id": "AYORuxtmzznd"
      },
      "source": [
        "2\\. $\\begin{align}\\text{rect}(t)\\quad\\text{for }t\\in[-2,2]\\end{align}$"
      ]
    },
    {
      "cell_type": "markdown",
      "metadata": {
        "id": "fCbeQ0JPzznd"
      },
      "source": [
        "**Hint**: The function $\\mathtt{rect}()$ may be computed in Python by using a Boolean expression. For example, if\n",
        "```python\n",
        "t = np.linspace(-10, 10, 201)\n",
        "```\n",
        "then $y=\\text{rect}(t)$ may be computed using the command\n",
        "```python\n",
        "y = (abs(t) <= 0.5).astype(float)\n",
        "```"
      ]
    },
    {
      "cell_type": "code",
      "execution_count": null,
      "metadata": {
        "id": "zGUe5daxzznd"
      },
      "outputs": [],
      "source": [
        "# insert your code here\n"
      ]
    },
    {
      "cell_type": "markdown",
      "metadata": {
        "id": "_i34R-e2zznd"
      },
      "source": [
        "<h3 style=\"color:red;\"><left>Exercise 7.2</left></h3>"
      ]
    },
    {
      "cell_type": "markdown",
      "metadata": {
        "id": "ZgTqA_G9zznd"
      },
      "source": [
        "**1. For each of the following functions, write a Python function that takes two arguments, `a` and `n`. Then write the script below to stem those 2 discrete-time functions for $a=0.8$, $a=1.0$ and $a=1.5$, by calling the Python functions you just wrote.**"
      ]
    },
    {
      "cell_type": "markdown",
      "metadata": {
        "id": "iTIYSk2Hzznd"
      },
      "source": [
        "1\\. $\\begin{align}a^n(u[n]-u[n-10])\\quad\\text{for }n\\in[-20,20]\\end{align}$"
      ]
    },
    {
      "cell_type": "markdown",
      "metadata": {
        "id": "Elw_Oyu9zznd"
      },
      "source": [
        "2\\. $\\begin{align}\\cos(\\omega n)a^nu[n]\\quad\\text{for }\\omega=\\pi/4,\\text{ and }n\\in[-1,10]\\end{align}$"
      ]
    },
    {
      "cell_type": "markdown",
      "metadata": {
        "id": "J0yuzeiQzznd"
      },
      "source": [
        "The syntax of the functions should be:\n",
        "\n",
        "```python\n",
        "    def func_7_2_1(a, n):\n",
        "        pass\n",
        "```\n",
        "\n",
        "and \n",
        "\n",
        "```python\n",
        "    def func_7_2_2(a, n):\n",
        "        pass\n",
        "```"
      ]
    },
    {
      "cell_type": "markdown",
      "metadata": {
        "id": "Fh9WRDQgzznd"
      },
      "source": [
        "**Hint**: The unit step function $y=u[n]$ may be computed in Python 3 using the command\n",
        "```python\n",
        "y = (n >= 0).astype(float)\n",
        "```\n",
        "where $\\mathtt{n}$ is a vector of values of time indices."
      ]
    },
    {
      "cell_type": "code",
      "execution_count": null,
      "metadata": {
        "id": "yvWoFLkVzznd"
      },
      "outputs": [],
      "source": [
        "# insert your code here\n"
      ]
    },
    {
      "cell_type": "markdown",
      "metadata": {
        "id": "P0-SSNMazzne"
      },
      "source": [
        "<h2 style=\"color:salmon;\"><left>8. Sampling</left></h2>"
      ]
    },
    {
      "cell_type": "markdown",
      "metadata": {
        "id": "vnAsJoWszzne"
      },
      "source": [
        "The word _sampling_ refers to the conversion of a continuous-time signal into a discrete-time signal. The signal is converted by taking its value, or sample, at uniformly spaced points in time. The time between two consecutive samples is called the _sampling period_. For example, a sampling period of $0.1$ seconds implies that the value of the signal is stored every $0.1$ seconds."
      ]
    },
    {
      "cell_type": "markdown",
      "metadata": {
        "id": "lmx4El4bzzne"
      },
      "source": [
        "<h3 style=\"color:red;\"><left>Exercise 8.1</left></h3>"
      ]
    },
    {
      "cell_type": "markdown",
      "metadata": {
        "id": "C-Qr2FYEzzne"
      },
      "source": [
        "Consider the signal $f(t)=\\sin(2\\pi t)$. We may form a discrete-time signal, $x[n]$, by sampling this signal with a period of $T_s$. In this case,\n",
        "\n",
        "$\\begin{align}x(n)=f(T_sn)=\\sin(2\\pi T_sn)\\end{align}$"
      ]
    },
    {
      "cell_type": "markdown",
      "metadata": {
        "id": "u6mWLQXzzzne"
      },
      "source": [
        "**1. Firstly,using the previously presented signal, complete the following function**\n",
        "\n",
        "```python\n",
        "def func_8(Ts, n):\n",
        "    pass\n",
        "```"
      ]
    },
    {
      "cell_type": "code",
      "execution_count": null,
      "metadata": {
        "id": "xEnX3BgTzzne"
      },
      "outputs": [],
      "source": [
        "# insert your code here\n"
      ]
    },
    {
      "cell_type": "markdown",
      "metadata": {
        "id": "44GomH0wzzne"
      },
      "source": [
        "**2. Use the ```plt.stem``` to plot the function $f(T_sn)$ defined above for the following values of $T_s$ and $n$.** \n",
        "\n",
        "**Note:** Your code should call the function defined above."
      ]
    },
    {
      "cell_type": "markdown",
      "metadata": {
        "id": "wgGptPpFzzne"
      },
      "source": [
        "1\\. $\\begin{align}T_s=1/10,0\\leqslant n\\leqslant 100;\\quad\\text{axis}([0, 100, -1, 1])\\end{align}$"
      ]
    },
    {
      "cell_type": "markdown",
      "metadata": {
        "id": "sfvospYfzzne"
      },
      "source": [
        "2\\. $\\begin{align}T_s=1/3,0\\leqslant n\\leqslant 30;\\quad\\text{axis}([0, 30, -1, 1])\\end{align}$"
      ]
    },
    {
      "cell_type": "markdown",
      "metadata": {
        "id": "joUeNV-tzzne"
      },
      "source": [
        "3\\. $\\begin{align}T_s=1/2,0\\leqslant n\\leqslant 20;\\quad\\text{axis}([0, 20, -1, 1])\\end{align}$"
      ]
    },
    {
      "cell_type": "markdown",
      "metadata": {
        "id": "0-ZUmq3vzzne"
      },
      "source": [
        "4\\. $\\begin{align}T_s=10/9,0\\leqslant n\\leqslant 9;\\quad\\text{axis}([0, 9, -1, 1])\\end{align}$"
      ]
    },
    {
      "cell_type": "code",
      "execution_count": null,
      "metadata": {
        "id": "4EVeBuiSzzne"
      },
      "outputs": [],
      "source": [
        "# insert your code here\n"
      ]
    },
    {
      "cell_type": "markdown",
      "metadata": {
        "id": "VV6zBegHzzne"
      },
      "source": [
        "**3. Discuss your results obtained from the 4 plots above. How does the sampled version of the signal with $T_s=1/10$ compare to those with $T_s=1/3$, $T_s=1/2$ and $T_2=10/9$?**"
      ]
    },
    {
      "cell_type": "markdown",
      "metadata": {
        "id": "C24gK-Auzznf"
      },
      "source": [
        "insert your answer here"
      ]
    },
    {
      "cell_type": "markdown",
      "metadata": {
        "id": "Gd90960bzznf"
      },
      "source": [
        "<h2 style=\"color:salmon;\"><left>9. 2-D Signals</left></h2>"
      ]
    },
    {
      "cell_type": "markdown",
      "metadata": {
        "id": "6jWb9ZJFzznf"
      },
      "source": [
        "So far we have only considered 1-D signals such as speech signals. However, 2-D signals are also very important in digital signal processing. For example, the elevation at each point on a map, or the color at each point on a photograph are examples of important 2-D signals. As in the 1-D case, we may distinguish between continuous-space and discrete-space signals. However in this section, we will restrict attention to discrete-space 2-D signals."
      ]
    },
    {
      "cell_type": "markdown",
      "metadata": {
        "id": "damrLRiBzznf"
      },
      "source": [
        "<h3 style=\"color:red;\"><left>Exercise 9.1</left></h3>"
      ]
    },
    {
      "cell_type": "markdown",
      "metadata": {
        "id": "zmhEiDh-zznf"
      },
      "source": [
        "When working with 2-D signals, we may choose to visualize them as images or as 2-D surfaces in a 3-D space. To demonstrate the differences between these two approaches, we will use two different display techniques in Python. Do the following:"
      ]
    },
    {
      "cell_type": "markdown",
      "metadata": {
        "id": "VDLBA65gzznf"
      },
      "source": [
        "**1. Use the ```np.meshgrid``` command to generate the discrete-space 2-D signal $\\begin{align}f[m,n]=255|\\text{sinc}(0.2m)\\text{sinc}(0.2n)|\\end{align}$ for $-20\\leqslant m \\leqslant 20$ and $-20 \\leqslant n\\leqslant 20$.**"
      ]
    },
    {
      "cell_type": "code",
      "execution_count": null,
      "metadata": {
        "id": "Fpl2vDt4zznf"
      },
      "outputs": [],
      "source": [
        "# insert your code here\n"
      ]
    },
    {
      "cell_type": "markdown",
      "metadata": {
        "id": "JuXAfMzFzznf"
      },
      "source": [
        "**2. Use the following code to display the signal as a surface plot.**"
      ]
    },
    {
      "cell_type": "code",
      "execution_count": null,
      "metadata": {
        "id": "iCxvm2UHzznf"
      },
      "outputs": [],
      "source": [
        "# refer to https://matplotlib.org/3.1.0/gallery/mplot3d/surface3d.html\n",
        "\n",
        "from mpl_toolkits.mplot3d import Axes3D\n",
        "from matplotlib import cm\n",
        "from matplotlib.ticker import LinearLocator, FormatStrFormatter\n",
        "\n",
        "def mesh_plot(X, Y, Z, title, xlabel, ylabel):\n",
        "    fig = plt.figure()\n",
        "    ax = fig.gca(projection='3d')\n",
        "    surf = ax.plot_surface(X, Y, Z, cmap=cm.coolwarm, linewidth=2, antialiased=True)\n",
        "    ax.zaxis.set_major_locator(LinearLocator(10))\n",
        "    ax.zaxis.set_major_formatter(FormatStrFormatter('%.02f'))\n",
        "    # Add a color bar which maps values to colors.\n",
        "    fig.colorbar(surf, shrink=0.5, aspect=5)\n",
        "    plt.xlabel(xlabel)\n",
        "    plt.ylabel(ylabel)\n",
        "    plt.title(title)\n",
        "    plt.show()"
      ]
    },
    {
      "cell_type": "markdown",
      "metadata": {
        "id": "p0OXHCe0zznf"
      },
      "source": [
        "**3. Display the signal as an image. Use the function attribute ```cmap='gray'``` inside the ```plt.imshow()``` command to obtain a grayscale image.**"
      ]
    },
    {
      "cell_type": "code",
      "execution_count": null,
      "metadata": {
        "id": "eUdfR1Wlzzng"
      },
      "outputs": [],
      "source": [
        "# insert your code here\n"
      ]
    },
    {
      "cell_type": "markdown",
      "metadata": {
        "id": "BWTl1tF_zzng"
      },
      "source": [
        "**4. For which applications do you think the surface plot works better? When would you prefer the image?**"
      ]
    },
    {
      "cell_type": "markdown",
      "metadata": {
        "id": "P4JNusL3zzng"
      },
      "source": [
        "insert your answer here"
      ]
    },
    {
      "cell_type": "markdown",
      "metadata": {
        "id": "_v9FVPkbzzng"
      },
      "source": [
        "<h2 style=\"color:salmon;\"><left>10. 2D Random Signals - Optional Exercise</left></h2>"
      ]
    },
    {
      "cell_type": "markdown",
      "metadata": {
        "id": "XSlmo-QBzzng"
      },
      "source": [
        "The objective of this section is to show how to recover a signal from noisy observations of that signal.\n",
        "\n",
        "**1. Generate one $100\\times100$ image with a $10\\times10$ white square in the middle (pixel value $110$) on a black background (pixel value $100$). Add a random number to each pixel value of the image. The random number for each pixel should be generated independently following a uniform distribution on the interval $[-100,100]$. Use the Python command ```np.random.rand()``` to generate these random numbers.**\n",
        "\n",
        "**Hint**: While command ```np.random.rand()``` generates a sample of a uniform random variable on the interval $[0,1]$, the command ```np.random.rand() - 3``` will generate a sample from uniform random variable on the interval $[-3,-2]$, and the command ```7 * np.random.rand()``` will generate a sample from uniform random variable on the interval $[0,7]$."
      ]
    },
    {
      "cell_type": "code",
      "execution_count": null,
      "metadata": {
        "id": "SM_beRw_zzng"
      },
      "outputs": [],
      "source": [
        "# insert your code here\n"
      ]
    },
    {
      "cell_type": "markdown",
      "metadata": {
        "id": "KHvLDYmEzzng"
      },
      "source": [
        "**2. Having added a random number to each pixel of the square image, you have created a \"noisy observation\" of the square image. Display the resulting 2D signal (the noisy observation) as an image using the command `plt.imshow()` (e.g., `plt.imshow(X,[])`.)**"
      ]
    },
    {
      "cell_type": "code",
      "execution_count": null,
      "metadata": {
        "id": "SGbUABAxzzng"
      },
      "outputs": [],
      "source": [
        "# insert your code here\n"
      ]
    },
    {
      "cell_type": "markdown",
      "metadata": {
        "id": "ya2aB4Qzzzng"
      },
      "source": [
        "**3. Can you distinguish the square in the center of the noisy image?**"
      ]
    },
    {
      "cell_type": "markdown",
      "metadata": {
        "id": "267eH0jczzng"
      },
      "source": [
        "insert your answer here"
      ]
    },
    {
      "cell_type": "markdown",
      "metadata": {
        "id": "1a86Hax2zznh"
      },
      "source": [
        "**4. Repeat this procedure to generate 99 additional (different) noisy observations of the image of the square. Obtain a new image by averaging the pixel values of each of these $100$ images. Plot the resulting new image.**\n",
        "\n",
        "**Hint**: Create a 3-d NumPy array by ```image_arr = np.zeros((N, H, W))```, where $N=100$ is the number of images, $H=100$ is the height of the image and $W=100$ is the width of the image. You may assign values to this 3-d array by using a *for* loop, then use the function ```np.mean(images, axis=0)``` to take the average of the pixel values of each of these $100$ images."
      ]
    },
    {
      "cell_type": "code",
      "execution_count": null,
      "metadata": {
        "id": "T5Nl0U5Bzznh"
      },
      "outputs": [],
      "source": [
        "# insert your code here\n"
      ]
    },
    {
      "cell_type": "markdown",
      "metadata": {
        "id": "zitjEkbRzznh"
      },
      "source": [
        "**5. Can you distinguish the square in the center of the new image?**"
      ]
    },
    {
      "cell_type": "markdown",
      "metadata": {
        "id": "CeaPmtOvzznh"
      },
      "source": [
        "insert your answer here"
      ]
    }
  ],
  "metadata": {
    "kernelspec": {
      "display_name": "Python 3 (ipykernel)",
      "language": "python",
      "name": "python3"
    },
    "language_info": {
      "codemirror_mode": {
        "name": "ipython",
        "version": 3
      },
      "file_extension": ".py",
      "mimetype": "text/x-python",
      "name": "python",
      "nbconvert_exporter": "python",
      "pygments_lexer": "ipython3",
      "version": "3.8.1"
    },
    "colab": {
      "provenance": []
    }
  },
  "nbformat": 4,
  "nbformat_minor": 0
}